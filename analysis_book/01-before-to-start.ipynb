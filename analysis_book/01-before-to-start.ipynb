{
 "cells": [
  {
   "cell_type": "markdown",
   "source": [
    "# Before to start"
   ],
   "metadata": {}
  },
  {
   "cell_type": "markdown",
   "source": [
    "## Prerequisites\n",
    "\n",
    "- [Conda](https://docs.conda.io/projects/conda/en/latest/user-guide/install/download.html)\n",
    "- Optional [Mamba](https://mamba.readthedocs.io/en/latest/)"
   ],
   "metadata": {}
  },
  {
   "cell_type": "markdown",
   "source": [
    "## Download or clone the project\n",
    "\n",
    "Click [here](https://github.com/jvelezmagic/covid_analysis/archive/refs/heads/main.zip) to download the `.zip` version of the project. \n",
    "\n",
    "Alternatively, you can clone the repository directly with the following command:\n",
    "\n",
    "```bash\n",
    "git clone https://github.com/jvelezmagic/covid_analysis.git\n",
    "```"
   ],
   "metadata": {}
  },
  {
   "cell_type": "markdown",
   "source": [
    "## Create working environment\n",
    "\n",
    "```bash\n",
    "conda env create --file environment.yml\n",
    "```\n",
    "\n",
    "or \n",
    "\n",
    "```bash\n",
    "mamba env create --file environment.yml\n",
    "```\n",
    "\n",
    "Now you have everything you need to work with this project."
   ],
   "metadata": {}
  },
  {
   "cell_type": "markdown",
   "source": [
    "## Activate working envieronment\n",
    "\n",
    "```bash\n",
    "conda activate covid_analysis\n",
    "```"
   ],
   "metadata": {}
  },
  {
   "cell_type": "markdown",
   "source": [
    "## Set up project's module\n",
    "\n",
    "To move beyond notebook prototyping, all reusable code should go into the `covid_analysis/` folder package. To use that package inside your project, install the project's module in editable mode, so you can edit files in the `covid_analysis` folder and use the modules inside your notebooks :\n",
    "\n",
    "```bash\n",
    "pip install --editable .\n",
    "```\n",
    "\n",
    "Example of module usage :\n",
    "\n",
    "```python\n",
    "from covid_analysis.utils.paths import data_dir\n",
    "data_dir()\n",
    "```\n",
    "\n",
    "To edit the source code and see the changes reflected at the moment within your notebooks, add `%autoreload` before importing `covid_analysis`:\n",
    "\n",
    "```python\n",
    "%load_ext autoreload\n",
    "%autoreload 2\n",
    "```\n",
    "\n",
    ":::{note}\n",
    "For practicality, I have decided to leave all the analysis at the prototyping level without adding functions to the `covid_analysis` module. However, consider that all functions declared online would typically reside within the work module. 😋\n",
    ":::"
   ],
   "metadata": {}
  }
 ],
 "metadata": {
  "orig_nbformat": 4,
  "language_info": {
   "name": "python",
   "version": "3.9.7"
  },
  "kernelspec": {
   "name": "python3",
   "display_name": "Python 3.9.7 64-bit ('covid_analysis': conda)"
  },
  "interpreter": {
   "hash": "3d1b4f8a728387d233bda06628d38195f577df9e95cd449622105f7d7da3480b"
  }
 },
 "nbformat": 4,
 "nbformat_minor": 2
}