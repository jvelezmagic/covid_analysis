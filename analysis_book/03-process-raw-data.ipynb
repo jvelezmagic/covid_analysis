{
 "cells": [
  {
   "cell_type": "markdown",
   "source": [
    "# Process raw data"
   ],
   "metadata": {}
  },
  {
   "cell_type": "markdown",
   "source": [
    "## Load libraries"
   ],
   "metadata": {}
  },
  {
   "cell_type": "code",
   "execution_count": 1,
   "source": [
    "import functools\n",
    "\n",
    "import covid_analysis.utils.paths as path\n",
    "import janitor\n",
    "import pandas as pd\n",
    "import pandas_flavor as pf\n"
   ],
   "outputs": [],
   "metadata": {}
  },
  {
   "cell_type": "markdown",
   "source": [
    "## Define default input and output directory"
   ],
   "metadata": {}
  },
  {
   "cell_type": "code",
   "execution_count": 2,
   "source": [
    "input_dir = path.data_raw_dir()\n",
    "output_dir = path.data_processed_dir()"
   ],
   "outputs": [],
   "metadata": {}
  },
  {
   "cell_type": "markdown",
   "source": [
    "## Johns Hopkins University time series"
   ],
   "metadata": {}
  },
  {
   "cell_type": "markdown",
   "source": [
    "### Utilities"
   ],
   "metadata": {}
  },
  {
   "cell_type": "code",
   "execution_count": 3,
   "source": [
    "@pf.register_dataframe_method\n",
    "def hopkins_tidy_data(df: pd.DataFrame, out_column: str) -> pd.DataFrame:\n",
    "    return (\n",
    "        df\n",
    "        .select_columns([\"Country/Region\", \"*/*/*\"])\n",
    "        .pivot_longer(\n",
    "            index=\"Country/Region\",\n",
    "            names_to=\"date\"\n",
    "        )\n",
    "        .to_datetime(\"date\")\n",
    "        .clean_names()\n",
    "        .rename_column(\"country_region\", \"country\")\n",
    "        .groupby([\"country\", \"date\"])\n",
    "        .sum()\n",
    "        .reset_index()\n",
    "        .rename_column(\"value\", out_column)\n",
    "    )"
   ],
   "outputs": [],
   "metadata": {}
  },
  {
   "cell_type": "markdown",
   "source": [
    "### Read data"
   ],
   "metadata": {}
  },
  {
   "cell_type": "code",
   "execution_count": 4,
   "source": [
    "hopkins_time_series = {\n",
    "    file.stem: pd.read_csv(file)\n",
    "    for file in input_dir.glob(\"time_series_covid19_*_global.csv\")\n",
    "}\n",
    "\n",
    "hopkins_time_series.keys()"
   ],
   "outputs": [
    {
     "output_type": "execute_result",
     "data": {
      "text/plain": [
       "dict_keys(['time_series_covid19_confirmed_global', 'time_series_covid19_deaths_global'])"
      ]
     },
     "metadata": {},
     "execution_count": 4
    }
   ],
   "metadata": {}
  },
  {
   "cell_type": "markdown",
   "source": [
    "### Process data"
   ],
   "metadata": {}
  },
  {
   "cell_type": "code",
   "execution_count": 5,
   "source": [
    "hopkins_tidy_time_series = {\n",
    "    key: df.hopkins_tidy_data(out_column=key)\n",
    "    for key, df in hopkins_time_series.items()\n",
    "}\n",
    "\n",
    "hopkins_tidy_cumulative_df = (\n",
    "    functools.reduce(\n",
    "        lambda x, y: pd.merge(x, y, on=[\"date\", \"country\"]),\n",
    "        hopkins_tidy_time_series.values()\n",
    "    )\n",
    ")\n",
    "\n",
    "hopkins_tidy_cumulative_df.columns = (\n",
    "    hopkins_tidy_cumulative_df\n",
    "    .columns\n",
    "    .str\n",
    "    .extract(r\"(country|date|confirmed|deaths)\")\n",
    "    .iloc[:, 0]\n",
    ")\n",
    "\n",
    "hopkins_tidy_cumulative_df.head(1)"
   ],
   "outputs": [
    {
     "output_type": "execute_result",
     "data": {
      "text/html": [
       "<div>\n",
       "<style scoped>\n",
       "    .dataframe tbody tr th:only-of-type {\n",
       "        vertical-align: middle;\n",
       "    }\n",
       "\n",
       "    .dataframe tbody tr th {\n",
       "        vertical-align: top;\n",
       "    }\n",
       "\n",
       "    .dataframe thead th {\n",
       "        text-align: right;\n",
       "    }\n",
       "</style>\n",
       "<table border=\"1\" class=\"dataframe\">\n",
       "  <thead>\n",
       "    <tr style=\"text-align: right;\">\n",
       "      <th></th>\n",
       "      <th>country</th>\n",
       "      <th>date</th>\n",
       "      <th>confirmed</th>\n",
       "      <th>deaths</th>\n",
       "    </tr>\n",
       "  </thead>\n",
       "  <tbody>\n",
       "    <tr>\n",
       "      <th>0</th>\n",
       "      <td>Afghanistan</td>\n",
       "      <td>2020-01-22</td>\n",
       "      <td>0</td>\n",
       "      <td>0</td>\n",
       "    </tr>\n",
       "  </tbody>\n",
       "</table>\n",
       "</div>"
      ],
      "text/plain": [
       "0      country       date  confirmed  deaths\n",
       "0  Afghanistan 2020-01-22          0       0"
      ]
     },
     "metadata": {},
     "execution_count": 5
    }
   ],
   "metadata": {}
  },
  {
   "cell_type": "markdown",
   "source": [
    "### Save data"
   ],
   "metadata": {}
  },
  {
   "cell_type": "code",
   "execution_count": 6,
   "source": [
    "(\n",
    "    hopkins_tidy_cumulative_df\n",
    "    .to_csv(\n",
    "        path_or_buf=output_dir.joinpath(\"hopkins_tidy_cumulative.csv\"),\n",
    "        index=False\n",
    "    )\n",
    ")"
   ],
   "outputs": [],
   "metadata": {}
  }
 ],
 "metadata": {
  "orig_nbformat": 4,
  "language_info": {
   "name": "python",
   "version": "3.9.7",
   "mimetype": "text/x-python",
   "codemirror_mode": {
    "name": "ipython",
    "version": 3
   },
   "pygments_lexer": "ipython3",
   "nbconvert_exporter": "python",
   "file_extension": ".py"
  },
  "kernelspec": {
   "name": "python3",
   "display_name": "Python 3.9.7 64-bit ('covid_analysis': conda)"
  },
  "interpreter": {
   "hash": "3d1b4f8a728387d233bda06628d38195f577df9e95cd449622105f7d7da3480b"
  }
 },
 "nbformat": 4,
 "nbformat_minor": 2
}