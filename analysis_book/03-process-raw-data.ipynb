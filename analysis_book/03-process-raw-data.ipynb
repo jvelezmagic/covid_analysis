{
 "cells": [
  {
   "cell_type": "markdown",
   "source": [
    "# Process raw data"
   ],
   "metadata": {}
  },
  {
   "cell_type": "markdown",
   "source": [
    "## Load libraries"
   ],
   "metadata": {}
  },
  {
   "cell_type": "code",
   "execution_count": 1,
   "source": [
    "import functools\n",
    "\n",
    "import covid_analysis.utils.paths as path\n",
    "import datatable as dt\n",
    "import janitor\n",
    "import pandas as pd\n",
    "import pandas_flavor as pf\n"
   ],
   "outputs": [
    {
     "output_type": "display_data",
     "data": {
      "text/html": [
       "<style type='text/css'>\n",
       ".datatable table.frame { margin-bottom: 0; }\n",
       ".datatable table.frame thead { border-bottom: none; }\n",
       ".datatable table.frame tr.coltypes td {  color: #FFFFFF;  line-height: 6px;  padding: 0 0.5em;}\n",
       ".datatable .bool    { background: #DDDD99; }\n",
       ".datatable .object  { background: #565656; }\n",
       ".datatable .int     { background: #5D9E5D; }\n",
       ".datatable .float   { background: #4040CC; }\n",
       ".datatable .str     { background: #CC4040; }\n",
       ".datatable .row_index {  background: var(--jp-border-color3);  border-right: 1px solid var(--jp-border-color0);  color: var(--jp-ui-font-color3);  font-size: 9px;}\n",
       ".datatable .frame tr.coltypes .row_index {  background: var(--jp-border-color0);}\n",
       ".datatable th:nth-child(2) { padding-left: 12px; }\n",
       ".datatable .hellipsis {  color: var(--jp-cell-editor-border-color);}\n",
       ".datatable .vellipsis {  background: var(--jp-layout-color0);  color: var(--jp-cell-editor-border-color);}\n",
       ".datatable .na {  color: var(--jp-cell-editor-border-color);  font-size: 80%;}\n",
       ".datatable .footer { font-size: 9px; }\n",
       ".datatable .frame_dimensions {  background: var(--jp-border-color3);  border-top: 1px solid var(--jp-border-color0);  color: var(--jp-ui-font-color3);  display: inline-block;  opacity: 0.6;  padding: 1px 10px 1px 5px;}\n",
       "</style>\n"
      ],
      "text/plain": [
       "<IPython.core.display.HTML object>"
      ]
     },
     "metadata": {}
    }
   ],
   "metadata": {}
  },
  {
   "cell_type": "markdown",
   "source": [
    "## Define default input and output directory"
   ],
   "metadata": {}
  },
  {
   "cell_type": "code",
   "execution_count": 2,
   "source": [
    "input_dir = path.data_raw_dir()\n",
    "output_dir = path.data_processed_dir()"
   ],
   "outputs": [],
   "metadata": {}
  },
  {
   "cell_type": "markdown",
   "source": [
    "## Johns Hopkins University - Time series"
   ],
   "metadata": {}
  },
  {
   "cell_type": "markdown",
   "source": [
    "### Utilities"
   ],
   "metadata": {}
  },
  {
   "cell_type": "code",
   "execution_count": 3,
   "source": [
    "@pf.register_dataframe_method\n",
    "def hopkins_tidy_data(df: pd.DataFrame, out_column: str) -> pd.DataFrame:\n",
    "    return (\n",
    "        df\n",
    "        .select_columns([\"Country/Region\", \"*/*/*\"])\n",
    "        .pivot_longer(\n",
    "            index=\"Country/Region\",\n",
    "            names_to=\"date\"\n",
    "        )\n",
    "        .to_datetime(\"date\")\n",
    "        .clean_names()\n",
    "        .rename_column(\"country_region\", \"country\")\n",
    "        .groupby([\"country\", \"date\"])\n",
    "        .sum()\n",
    "        .reset_index()\n",
    "        .rename_column(\"value\", out_column)\n",
    "    )"
   ],
   "outputs": [],
   "metadata": {}
  },
  {
   "cell_type": "markdown",
   "source": [
    "### Read data"
   ],
   "metadata": {}
  },
  {
   "cell_type": "code",
   "execution_count": 4,
   "source": [
    "hopkins_time_series = {\n",
    "    file.stem: pd.read_csv(file)\n",
    "    for file in input_dir.glob(\"time_series_covid19_[!v]*_global.csv\")\n",
    "}\n",
    "\n",
    "hopkins_time_series.keys()"
   ],
   "outputs": [
    {
     "output_type": "execute_result",
     "data": {
      "text/plain": [
       "dict_keys(['time_series_covid19_confirmed_global', 'time_series_covid19_deaths_global'])"
      ]
     },
     "metadata": {},
     "execution_count": 4
    }
   ],
   "metadata": {}
  },
  {
   "cell_type": "markdown",
   "source": [
    "### Process data"
   ],
   "metadata": {}
  },
  {
   "cell_type": "code",
   "execution_count": 5,
   "source": [
    "hopkins_tidy_time_series = {\n",
    "    key: df.hopkins_tidy_data(out_column=key)\n",
    "    for key, df in hopkins_time_series.items()\n",
    "}\n",
    "\n",
    "hopkins_tidy_cumulative_df = (\n",
    "    functools.reduce(\n",
    "        lambda x, y: pd.merge(x, y, on=[\"date\", \"country\"]),\n",
    "        hopkins_tidy_time_series.values()\n",
    "    )\n",
    ")\n",
    "\n",
    "hopkins_tidy_cumulative_df.columns = (\n",
    "    hopkins_tidy_cumulative_df\n",
    "    .columns\n",
    "    .str\n",
    "    .extract(r\"(country|date|confirmed|deaths)\")\n",
    "    .iloc[:, 0]\n",
    ")\n",
    "\n",
    "hopkins_tidy_cumulative_df.head(1)"
   ],
   "outputs": [
    {
     "output_type": "execute_result",
     "data": {
      "text/html": [
       "<div>\n",
       "<style scoped>\n",
       "    .dataframe tbody tr th:only-of-type {\n",
       "        vertical-align: middle;\n",
       "    }\n",
       "\n",
       "    .dataframe tbody tr th {\n",
       "        vertical-align: top;\n",
       "    }\n",
       "\n",
       "    .dataframe thead th {\n",
       "        text-align: right;\n",
       "    }\n",
       "</style>\n",
       "<table border=\"1\" class=\"dataframe\">\n",
       "  <thead>\n",
       "    <tr style=\"text-align: right;\">\n",
       "      <th></th>\n",
       "      <th>country</th>\n",
       "      <th>date</th>\n",
       "      <th>confirmed</th>\n",
       "      <th>deaths</th>\n",
       "    </tr>\n",
       "  </thead>\n",
       "  <tbody>\n",
       "    <tr>\n",
       "      <th>0</th>\n",
       "      <td>Afghanistan</td>\n",
       "      <td>2020-01-22</td>\n",
       "      <td>0</td>\n",
       "      <td>0</td>\n",
       "    </tr>\n",
       "  </tbody>\n",
       "</table>\n",
       "</div>"
      ],
      "text/plain": [
       "0      country       date  confirmed  deaths\n",
       "0  Afghanistan 2020-01-22          0       0"
      ]
     },
     "metadata": {},
     "execution_count": 5
    }
   ],
   "metadata": {}
  },
  {
   "cell_type": "markdown",
   "source": [
    "### Save data"
   ],
   "metadata": {}
  },
  {
   "cell_type": "code",
   "execution_count": 6,
   "source": [
    "(\n",
    "    hopkins_tidy_cumulative_df\n",
    "    .to_csv(\n",
    "        path_or_buf=output_dir.joinpath(\"hopkins_tidy_cumulative.csv\"),\n",
    "        index=False\n",
    "    )\n",
    ")"
   ],
   "outputs": [],
   "metadata": {}
  },
  {
   "cell_type": "markdown",
   "source": [
    "## Johns Hopkins University - Countries metadata"
   ],
   "metadata": {}
  },
  {
   "cell_type": "markdown",
   "source": [
    "### Read data"
   ],
   "metadata": {}
  },
  {
   "cell_type": "code",
   "execution_count": 7,
   "source": [
    "countries_metadata_filename = input_dir.joinpath(\"UID_ISO_FIPS_LookUp_Table.csv\")\n",
    "\n",
    "countries_metadata_df = pd.read_csv(countries_metadata_filename)\n",
    "countries_metadata_df.head(1)"
   ],
   "outputs": [
    {
     "output_type": "execute_result",
     "data": {
      "text/html": [
       "<div>\n",
       "<style scoped>\n",
       "    .dataframe tbody tr th:only-of-type {\n",
       "        vertical-align: middle;\n",
       "    }\n",
       "\n",
       "    .dataframe tbody tr th {\n",
       "        vertical-align: top;\n",
       "    }\n",
       "\n",
       "    .dataframe thead th {\n",
       "        text-align: right;\n",
       "    }\n",
       "</style>\n",
       "<table border=\"1\" class=\"dataframe\">\n",
       "  <thead>\n",
       "    <tr style=\"text-align: right;\">\n",
       "      <th></th>\n",
       "      <th>UID</th>\n",
       "      <th>iso2</th>\n",
       "      <th>iso3</th>\n",
       "      <th>code3</th>\n",
       "      <th>FIPS</th>\n",
       "      <th>Admin2</th>\n",
       "      <th>Province_State</th>\n",
       "      <th>Country_Region</th>\n",
       "      <th>Lat</th>\n",
       "      <th>Long_</th>\n",
       "      <th>Combined_Key</th>\n",
       "      <th>Population</th>\n",
       "    </tr>\n",
       "  </thead>\n",
       "  <tbody>\n",
       "    <tr>\n",
       "      <th>0</th>\n",
       "      <td>4</td>\n",
       "      <td>AF</td>\n",
       "      <td>AFG</td>\n",
       "      <td>4.0</td>\n",
       "      <td>NaN</td>\n",
       "      <td>NaN</td>\n",
       "      <td>NaN</td>\n",
       "      <td>Afghanistan</td>\n",
       "      <td>33.93911</td>\n",
       "      <td>67.709953</td>\n",
       "      <td>Afghanistan</td>\n",
       "      <td>38928341.0</td>\n",
       "    </tr>\n",
       "  </tbody>\n",
       "</table>\n",
       "</div>"
      ],
      "text/plain": [
       "   UID iso2 iso3  code3  FIPS Admin2 Province_State Country_Region       Lat  \\\n",
       "0    4   AF  AFG    4.0   NaN    NaN            NaN    Afghanistan  33.93911   \n",
       "\n",
       "       Long_ Combined_Key  Population  \n",
       "0  67.709953  Afghanistan  38928341.0  "
      ]
     },
     "metadata": {},
     "execution_count": 7
    }
   ],
   "metadata": {}
  },
  {
   "cell_type": "markdown",
   "source": [
    "### Process data"
   ],
   "metadata": {}
  },
  {
   "cell_type": "code",
   "execution_count": 8,
   "source": [
    "countries_population_df = (\n",
    "    countries_metadata_df\n",
    "    .clean_names()\n",
    "    .rename_column(\"country_region\", \"country\")\n",
    "    .select_columns([\"country\", \"population\"])\n",
    "    .groupby(\"country\")\n",
    "    .sum()\n",
    "    .reset_index()\n",
    ")\n",
    "\n",
    "countries_population_df.head(1)"
   ],
   "outputs": [
    {
     "output_type": "execute_result",
     "data": {
      "text/html": [
       "<div>\n",
       "<style scoped>\n",
       "    .dataframe tbody tr th:only-of-type {\n",
       "        vertical-align: middle;\n",
       "    }\n",
       "\n",
       "    .dataframe tbody tr th {\n",
       "        vertical-align: top;\n",
       "    }\n",
       "\n",
       "    .dataframe thead th {\n",
       "        text-align: right;\n",
       "    }\n",
       "</style>\n",
       "<table border=\"1\" class=\"dataframe\">\n",
       "  <thead>\n",
       "    <tr style=\"text-align: right;\">\n",
       "      <th></th>\n",
       "      <th>country</th>\n",
       "      <th>population</th>\n",
       "    </tr>\n",
       "  </thead>\n",
       "  <tbody>\n",
       "    <tr>\n",
       "      <th>0</th>\n",
       "      <td>Afghanistan</td>\n",
       "      <td>38928341.0</td>\n",
       "    </tr>\n",
       "  </tbody>\n",
       "</table>\n",
       "</div>"
      ],
      "text/plain": [
       "       country  population\n",
       "0  Afghanistan  38928341.0"
      ]
     },
     "metadata": {},
     "execution_count": 8
    }
   ],
   "metadata": {}
  },
  {
   "cell_type": "markdown",
   "source": [
    "### Save data"
   ],
   "metadata": {}
  },
  {
   "cell_type": "code",
   "execution_count": 9,
   "source": [
    "(\n",
    "    countries_population_df\n",
    "    .to_csv(\n",
    "        path_or_buf=output_dir.joinpath(\"countries_population.csv\"),\n",
    "        index=False\n",
    "    )\n",
    ")"
   ],
   "outputs": [],
   "metadata": {}
  },
  {
   "cell_type": "markdown",
   "source": [
    "## Johns Hopkins University - Vaccination Time Series"
   ],
   "metadata": {}
  },
  {
   "cell_type": "markdown",
   "source": [
    "### Read data"
   ],
   "metadata": {}
  },
  {
   "cell_type": "code",
   "execution_count": 10,
   "source": [
    "vaccinations_tidy_time_series_file = input_dir.joinpath(\"time_series_covid19_vaccine_global.csv\")\n",
    "\n",
    "vaccinations_tidy_time_series_df = pd.read_csv(vaccinations_tidy_time_series_file)\n",
    "vaccinations_tidy_time_series_df.head(1)"
   ],
   "outputs": [
    {
     "output_type": "execute_result",
     "data": {
      "text/html": [
       "<div>\n",
       "<style scoped>\n",
       "    .dataframe tbody tr th:only-of-type {\n",
       "        vertical-align: middle;\n",
       "    }\n",
       "\n",
       "    .dataframe tbody tr th {\n",
       "        vertical-align: top;\n",
       "    }\n",
       "\n",
       "    .dataframe thead th {\n",
       "        text-align: right;\n",
       "    }\n",
       "</style>\n",
       "<table border=\"1\" class=\"dataframe\">\n",
       "  <thead>\n",
       "    <tr style=\"text-align: right;\">\n",
       "      <th></th>\n",
       "      <th>Country_Region</th>\n",
       "      <th>Date</th>\n",
       "      <th>Doses_admin</th>\n",
       "      <th>People_partially_vaccinated</th>\n",
       "      <th>People_fully_vaccinated</th>\n",
       "      <th>Report_Date_String</th>\n",
       "      <th>UID</th>\n",
       "      <th>Province_State</th>\n",
       "    </tr>\n",
       "  </thead>\n",
       "  <tbody>\n",
       "    <tr>\n",
       "      <th>0</th>\n",
       "      <td>Afghanistan</td>\n",
       "      <td>2021-02-22</td>\n",
       "      <td>0</td>\n",
       "      <td>0.0</td>\n",
       "      <td>0.0</td>\n",
       "      <td>2021-02-22</td>\n",
       "      <td>4.0</td>\n",
       "      <td>NaN</td>\n",
       "    </tr>\n",
       "  </tbody>\n",
       "</table>\n",
       "</div>"
      ],
      "text/plain": [
       "  Country_Region        Date  Doses_admin  People_partially_vaccinated  \\\n",
       "0    Afghanistan  2021-02-22            0                          0.0   \n",
       "\n",
       "   People_fully_vaccinated Report_Date_String  UID Province_State  \n",
       "0                      0.0         2021-02-22  4.0            NaN  "
      ]
     },
     "metadata": {},
     "execution_count": 10
    }
   ],
   "metadata": {}
  },
  {
   "cell_type": "markdown",
   "source": [
    "### Process data"
   ],
   "metadata": {}
  },
  {
   "cell_type": "code",
   "execution_count": 11,
   "source": [
    "vaccination_country_cumulative_df = (\n",
    "    vaccinations_tidy_time_series_df\n",
    "    .clean_names()\n",
    "    .rename_column(\"country_region\", \"country\")\n",
    "    .remove_columns([\"report_date_string\", \"uid\", \"province_state\"])\n",
    "    .groupby([\"country\", \"date\"])\n",
    "    .sum()\n",
    "    .reset_index()\n",
    "    .filter_on(\"country != 'World' and country != 'US (Aggregate)'\")\n",
    ")\n",
    "\n",
    "vaccination_country_cumulative_df.head(1)"
   ],
   "outputs": [
    {
     "output_type": "execute_result",
     "data": {
      "text/html": [
       "<div>\n",
       "<style scoped>\n",
       "    .dataframe tbody tr th:only-of-type {\n",
       "        vertical-align: middle;\n",
       "    }\n",
       "\n",
       "    .dataframe tbody tr th {\n",
       "        vertical-align: top;\n",
       "    }\n",
       "\n",
       "    .dataframe thead th {\n",
       "        text-align: right;\n",
       "    }\n",
       "</style>\n",
       "<table border=\"1\" class=\"dataframe\">\n",
       "  <thead>\n",
       "    <tr style=\"text-align: right;\">\n",
       "      <th></th>\n",
       "      <th>country</th>\n",
       "      <th>date</th>\n",
       "      <th>doses_admin</th>\n",
       "      <th>people_partially_vaccinated</th>\n",
       "      <th>people_fully_vaccinated</th>\n",
       "    </tr>\n",
       "  </thead>\n",
       "  <tbody>\n",
       "    <tr>\n",
       "      <th>0</th>\n",
       "      <td>Afghanistan</td>\n",
       "      <td>2021-02-22</td>\n",
       "      <td>0</td>\n",
       "      <td>0.0</td>\n",
       "      <td>0.0</td>\n",
       "    </tr>\n",
       "  </tbody>\n",
       "</table>\n",
       "</div>"
      ],
      "text/plain": [
       "       country        date  doses_admin  people_partially_vaccinated  \\\n",
       "0  Afghanistan  2021-02-22            0                          0.0   \n",
       "\n",
       "   people_fully_vaccinated  \n",
       "0                      0.0  "
      ]
     },
     "metadata": {},
     "execution_count": 11
    }
   ],
   "metadata": {}
  },
  {
   "cell_type": "markdown",
   "source": [
    "### Save data"
   ],
   "metadata": {}
  },
  {
   "cell_type": "code",
   "execution_count": 12,
   "source": [
    "(\n",
    "    vaccination_country_cumulative_df\n",
    "    .to_csv(\n",
    "        path_or_buf=output_dir.joinpath(\"vaccination_country_cumulative.csv\"),\n",
    "        index=False\n",
    "    )\n",
    ")"
   ],
   "outputs": [],
   "metadata": {}
  },
  {
   "cell_type": "markdown",
   "source": [
    "## Government of Mexico data"
   ],
   "metadata": {}
  },
  {
   "cell_type": "code",
   "execution_count": 13,
   "source": [
    "interim_dir = path.data_interim_dir()"
   ],
   "outputs": [],
   "metadata": {}
  },
  {
   "cell_type": "markdown",
   "source": [
    "### Unzip files"
   ],
   "metadata": {}
  },
  {
   "cell_type": "code",
   "execution_count": 14,
   "source": [
    "!unzip -q -o -d {str(interim_dir)} {str(input_dir.joinpath(\"diccionario_datos_covid19.zip\"))} \"*Catalogos.xlsx\""
   ],
   "outputs": [],
   "metadata": {}
  },
  {
   "cell_type": "code",
   "execution_count": 15,
   "source": [
    "!unzip -q -o -d {str(interim_dir)} {str(input_dir.joinpath(\"datos_abiertos_covid19.zip\"))}"
   ],
   "outputs": [],
   "metadata": {}
  },
  {
   "cell_type": "markdown",
   "source": [
    "### Load data"
   ],
   "metadata": {}
  },
  {
   "cell_type": "markdown",
   "source": [
    "#### Catalogs"
   ],
   "metadata": {}
  },
  {
   "cell_type": "code",
   "execution_count": 16,
   "source": [
    "catalogs_file = list(interim_dir.glob(\"*Catalogos.xlsx\"))[-1]"
   ],
   "outputs": [],
   "metadata": {}
  },
  {
   "cell_type": "code",
   "execution_count": 17,
   "source": [
    "catalogs_dfs = pd.read_excel(\n",
    "    io=catalogs_file,\n",
    "    sheet_name=None,\n",
    "    header=0\n",
    ")\n",
    "\n",
    "catalogs_dfs.keys()"
   ],
   "outputs": [
    {
     "output_type": "execute_result",
     "data": {
      "text/plain": [
       "dict_keys(['Catálogo ORIGEN', 'Catálogo SECTOR', 'Catálogo SEXO', 'Catálogo TIPO_PACIENTE', 'Catálogo SI_NO', 'Catálogo NACIONALIDAD', 'Catálogo RESULTADO_LAB', 'Catálogo RESULTADO_ANTIGENO', 'Catálogo CLASIFICACION_FINAL', 'Catálogo de ENTIDADES', 'Catálogo MUNICIPIOS'])"
      ]
     },
     "metadata": {},
     "execution_count": 17
    }
   ],
   "metadata": {}
  },
  {
   "cell_type": "markdown",
   "source": [
    "#### Only positive covid cases"
   ],
   "metadata": {}
  },
  {
   "cell_type": "code",
   "execution_count": 18,
   "source": [
    "covid_mex_file = list(interim_dir.glob(\"*COVID19MEXICO.csv\"))[-1]\n",
    "\n",
    "interest_columns = (\n",
    "    \"ORIGEN\",\n",
    "    \"SECTOR\",\n",
    "    \"ENTIDAD_UM\",\n",
    "    \"SEXO\",\n",
    "    \"TIPO_PACIENTE\",\n",
    "    \"FECHA_INGRESO\",\n",
    "    \"FECHA_SINTOMAS\",\n",
    "    \"FECHA_DEF\",\n",
    "    \"INTUBADO\",\n",
    "    \"NEUMONIA\",\n",
    "    \"EDAD\",\n",
    "    \"EMBARAZO\",\n",
    "    \"DIABETES\",\n",
    "    \"EPOC\",\n",
    "    \"ASMA\",\n",
    "    \"INMUSUPR\",\n",
    "    \"HIPERTENSION\",\n",
    "    \"OTRA_COM\",\n",
    "    \"CARDIOVASCULAR\",\n",
    "    \"OBESIDAD\",\n",
    "    \"RENAL_CRONICA\",\n",
    "    \"TABAQUISMO\",\n",
    "    \"UCI\"\n",
    ")"
   ],
   "outputs": [],
   "metadata": {}
  },
  {
   "cell_type": "code",
   "execution_count": 19,
   "source": [
    "covid_mex_dt = (\n",
    "    dt.fread(covid_mex_file)\n",
    "    [dt.f.CLASIFICACION_FINAL <= 3, interest_columns]\n",
    ")\n",
    "\n",
    "covid_mex_dt.names = {name: name.lower() for name in covid_mex_dt.names}\n",
    "covid_mex_dt = covid_mex_dt.to_pandas()\n",
    "covid_mex_dt.head(1)"
   ],
   "outputs": [
    {
     "output_type": "execute_result",
     "data": {
      "text/html": [
       "<div>\n",
       "<style scoped>\n",
       "    .dataframe tbody tr th:only-of-type {\n",
       "        vertical-align: middle;\n",
       "    }\n",
       "\n",
       "    .dataframe tbody tr th {\n",
       "        vertical-align: top;\n",
       "    }\n",
       "\n",
       "    .dataframe thead th {\n",
       "        text-align: right;\n",
       "    }\n",
       "</style>\n",
       "<table border=\"1\" class=\"dataframe\">\n",
       "  <thead>\n",
       "    <tr style=\"text-align: right;\">\n",
       "      <th></th>\n",
       "      <th>origen</th>\n",
       "      <th>sector</th>\n",
       "      <th>entidad_um</th>\n",
       "      <th>sexo</th>\n",
       "      <th>tipo_paciente</th>\n",
       "      <th>fecha_ingreso</th>\n",
       "      <th>fecha_sintomas</th>\n",
       "      <th>fecha_def</th>\n",
       "      <th>intubado</th>\n",
       "      <th>neumonia</th>\n",
       "      <th>...</th>\n",
       "      <th>epoc</th>\n",
       "      <th>asma</th>\n",
       "      <th>inmusupr</th>\n",
       "      <th>hipertension</th>\n",
       "      <th>otra_com</th>\n",
       "      <th>cardiovascular</th>\n",
       "      <th>obesidad</th>\n",
       "      <th>renal_cronica</th>\n",
       "      <th>tabaquismo</th>\n",
       "      <th>uci</th>\n",
       "    </tr>\n",
       "  </thead>\n",
       "  <tbody>\n",
       "    <tr>\n",
       "      <th>0</th>\n",
       "      <td>2</td>\n",
       "      <td>12</td>\n",
       "      <td>9</td>\n",
       "      <td>2</td>\n",
       "      <td>1</td>\n",
       "      <td>2020-10-16</td>\n",
       "      <td>2020-10-16</td>\n",
       "      <td>9999-99-99</td>\n",
       "      <td>97</td>\n",
       "      <td>2</td>\n",
       "      <td>...</td>\n",
       "      <td>2</td>\n",
       "      <td>2</td>\n",
       "      <td>2</td>\n",
       "      <td>2</td>\n",
       "      <td>2</td>\n",
       "      <td>2</td>\n",
       "      <td>2</td>\n",
       "      <td>2</td>\n",
       "      <td>2</td>\n",
       "      <td>97</td>\n",
       "    </tr>\n",
       "  </tbody>\n",
       "</table>\n",
       "<p>1 rows × 23 columns</p>\n",
       "</div>"
      ],
      "text/plain": [
       "   origen  sector  entidad_um  sexo  tipo_paciente fecha_ingreso  \\\n",
       "0       2      12           9     2              1    2020-10-16   \n",
       "\n",
       "  fecha_sintomas   fecha_def  intubado  neumonia  ...  epoc  asma  inmusupr  \\\n",
       "0     2020-10-16  9999-99-99        97         2  ...     2     2         2   \n",
       "\n",
       "   hipertension  otra_com  cardiovascular  obesidad  renal_cronica  \\\n",
       "0             2         2               2         2              2   \n",
       "\n",
       "   tabaquismo  uci  \n",
       "0           2   97  \n",
       "\n",
       "[1 rows x 23 columns]"
      ]
     },
     "metadata": {},
     "execution_count": 19
    }
   ],
   "metadata": {}
  },
  {
   "cell_type": "markdown",
   "source": [
    "### Process data"
   ],
   "metadata": {}
  },
  {
   "cell_type": "markdown",
   "source": [
    "#### Catalogs"
   ],
   "metadata": {}
  },
  {
   "cell_type": "code",
   "execution_count": 20,
   "source": [
    "en_replacement_values = {\n",
    "    'AMBULATORIO': \"Ambulatory\",\n",
    "     'CRUZ ROJA': \"Mexican Red Cross\",\n",
    "     'DIF': \"DIF\",\n",
    "     'ESTATAL': \"State\",\n",
    "     'FUERA DE USMER': \"Out of USMER\",\n",
    "     'HOMBRE': \"Man\",\n",
    "     'HOSPITALIZADO': \"Hospitalized\",\n",
    "     'IMSS': \"IMSS\",\n",
    "     'IMSS-BIENESTAR': \"IMSS-BIENESTAR\",\n",
    "     'ISSSTE': \"ISSSTE\",\n",
    "     'MUJER': \"Woman\",\n",
    "     'NO': \"No\",\n",
    "     'NO APLICA': \"Does not apply\",\n",
    "     'NO ESPECIFICADO': \"Not specified\",\n",
    "     'PEMEX': \"PEMEX\",\n",
    "     'PENDIENTE': \"Pending\",\n",
    "     'PRIVADA': \"Private\",\n",
    "     'SEDENA': \"SEDENA\",\n",
    "     'SEMAR': \"SEMAR\",\n",
    "     'SSA': \"SSA\",\n",
    "     'SE IGNORA': \"It is ignored\",\n",
    "     'SI': \"Yes\",\n",
    "     'UNIVERSITARIO': \"Academic\",\n",
    "     'USMER': \"USMER\",\n",
    "}"
   ],
   "outputs": [],
   "metadata": {}
  },
  {
   "cell_type": "code",
   "execution_count": 21,
   "source": [
    "catalogs_dfs_2 = dict()\n",
    "for sheet, df in catalogs_dfs.items():\n",
    "\n",
    "    sheet_name = sheet.split(\" \")[-1].lower()\n",
    "    inconsistent_columns_position = df.columns.str.contains(\"Unnamed\").any()\n",
    "\n",
    "    if inconsistent_columns_position:\n",
    "        if sheet_name == 'clasificacion_final':\n",
    "            location_names = 1\n",
    " \n",
    "        else:\n",
    "            location_names = 0\n",
    "\n",
    "        df = (\n",
    "            df\n",
    "            .dropna()\n",
    "            .rename(columns=df.iloc[location_names])\n",
    "            .drop(location_names)\n",
    "            .reset_index(drop=True)\n",
    "        )\n",
    "    \n",
    "    df = df.clean_names()\n",
    "    mask = df.dtypes == object\n",
    "    df.loc[:, mask] = df.loc[:, mask].apply(lambda x: x.astype(str).str.strip())\n",
    "    df.replace(en_replacement_values, inplace=True)\n",
    "\n",
    "    catalogs_dfs_2[sheet_name] = df\n",
    "\n",
    "catalogs_dfs_2.keys()"
   ],
   "outputs": [
    {
     "output_type": "execute_result",
     "data": {
      "text/plain": [
       "dict_keys(['origen', 'sector', 'sexo', 'tipo_paciente', 'si_no', 'nacionalidad', 'resultado_lab', 'resultado_antigeno', 'clasificacion_final', 'entidades', 'municipios'])"
      ]
     },
     "metadata": {},
     "execution_count": 21
    }
   ],
   "metadata": {}
  },
  {
   "cell_type": "code",
   "execution_count": 31,
   "source": [
    "[print(sheet, \"\\n\", df.head(1)) for sheet, df in catalogs_dfs_2.items()];"
   ],
   "outputs": [
    {
     "output_type": "stream",
     "name": "stdout",
     "text": [
      "origen \n",
      "    clave descripcion\n",
      "0      1       USMER\n",
      "sector \n",
      "    clave        descripcion\n",
      "0      1  Mexican Red Cross\n",
      "sexo \n",
      "    clave descripcion\n",
      "0      1       Woman\n",
      "tipo_paciente \n",
      "    clave descripcion\n",
      "0      1  Ambulatory\n",
      "si_no \n",
      "    clave descripcion\n",
      "0      1         Yes\n",
      "nacionalidad \n",
      "    clave descripcion\n",
      "0      1    MEXICANA\n",
      "resultado_lab \n",
      "   clave            descripcion\n",
      "0     1  POSITIVO A SARS-COV-2\n",
      "resultado_antigeno \n",
      "   clave            descripcion\n",
      "0     1  POSITIVO A SARS-COV-2\n",
      "clasificacion_final \n",
      "   clave                                      clasificacion  \\\n",
      "0     1  CASO DE COVID-19 CONFIRMADO POR ASOCIACIÓN CLÍ...   \n",
      "\n",
      "                                         descripcion  \n",
      "0  Confirmado por asociación aplica cuando el cas...  \n",
      "entidades \n",
      "    clave_entidad entidad_federativa abreviatura\n",
      "0              1     AGUASCALIENTES          AS\n",
      "municipios \n",
      "    clave_municipio       municipio  clave_entidad\n",
      "0                1  AGUASCALIENTES              1\n"
     ]
    }
   ],
   "metadata": {}
  },
  {
   "cell_type": "code",
   "execution_count": 23,
   "source": [
    "interest_catalogs_dicts = {\n",
    "    sheet: dict(catalog_df.iloc[:, 0:2].values.tolist()) for sheet, catalog_df in catalogs_dfs_2.items()\n",
    "    if sheet in (\"origen\", \"sector\", \"sexo\", \"tipo_paciente\", \"si_no\", \"entidades\")\n",
    "}\n",
    "\n",
    "print(interest_catalogs_dicts.keys())\n",
    "interest_catalogs_dicts.get(\"sector\")"
   ],
   "outputs": [
    {
     "output_type": "stream",
     "name": "stdout",
     "text": [
      "dict_keys(['origen', 'sector', 'sexo', 'tipo_paciente', 'si_no', 'entidades'])\n"
     ]
    },
    {
     "output_type": "execute_result",
     "data": {
      "text/plain": [
       "{1: 'Mexican Red Cross',\n",
       " 2: 'DIF',\n",
       " 3: 'State',\n",
       " 4: 'IMSS',\n",
       " 5: 'IMSS-BIENESTAR',\n",
       " 6: 'ISSSTE',\n",
       " 7: 'MUNICIPAL',\n",
       " 8: 'PEMEX',\n",
       " 9: 'Private',\n",
       " 10: 'SEDENA',\n",
       " 11: 'SEMAR',\n",
       " 12: 'SSA',\n",
       " 13: 'Academic',\n",
       " 99: 'Not specified'}"
      ]
     },
     "metadata": {},
     "execution_count": 23
    }
   ],
   "metadata": {}
  },
  {
   "cell_type": "markdown",
   "source": [
    "#### Positive cases"
   ],
   "metadata": {}
  },
  {
   "cell_type": "markdown",
   "source": [
    "##### Replace foreing keys as text values"
   ],
   "metadata": {}
  },
  {
   "cell_type": "code",
   "execution_count": 24,
   "source": [
    "si_no_columns = (\n",
    "    'intubado',\n",
    "    'neumonia',\n",
    "    'embarazo',\n",
    "    'diabetes',\n",
    "    'epoc',\n",
    "    'asma',\n",
    "    'inmusupr',\n",
    "    'hipertension',\n",
    "    'otra_com',\n",
    "    'cardiovascular',\n",
    "    'obesidad',\n",
    "    'renal_cronica',\n",
    "    'tabaquismo',\n",
    "    'uci'\n",
    ")"
   ],
   "outputs": [],
   "metadata": {}
  },
  {
   "cell_type": "code",
   "execution_count": 25,
   "source": [
    "replacement_keys = {\n",
    "    (\"origen\",): interest_catalogs_dicts.get(\"origen\"),\n",
    "    (\"sector\",): interest_catalogs_dicts.get(\"sector\"),\n",
    "    (\"sexo\",): interest_catalogs_dicts.get(\"sexo\"),\n",
    "    (\"tipo_paciente\",): interest_catalogs_dicts.get(\"tipo_paciente\"),\n",
    "    (\"entidad_um\",): interest_catalogs_dicts.get(\"entidades\"),\n",
    "    si_no_columns: interest_catalogs_dicts.get(\"si_no\")\n",
    "}"
   ],
   "outputs": [],
   "metadata": {}
  },
  {
   "cell_type": "code",
   "execution_count": 26,
   "source": [
    "for columns, replacement in replacement_keys.items():\n",
    "\n",
    "    for column in columns:\n",
    "        covid_mex_dt[column].replace(to_replace=replacement, inplace=True)\n",
    "\n",
    "covid_mex_dt.head(1)"
   ],
   "outputs": [
    {
     "output_type": "execute_result",
     "data": {
      "text/html": [
       "<div>\n",
       "<style scoped>\n",
       "    .dataframe tbody tr th:only-of-type {\n",
       "        vertical-align: middle;\n",
       "    }\n",
       "\n",
       "    .dataframe tbody tr th {\n",
       "        vertical-align: top;\n",
       "    }\n",
       "\n",
       "    .dataframe thead th {\n",
       "        text-align: right;\n",
       "    }\n",
       "</style>\n",
       "<table border=\"1\" class=\"dataframe\">\n",
       "  <thead>\n",
       "    <tr style=\"text-align: right;\">\n",
       "      <th></th>\n",
       "      <th>origen</th>\n",
       "      <th>sector</th>\n",
       "      <th>entidad_um</th>\n",
       "      <th>sexo</th>\n",
       "      <th>tipo_paciente</th>\n",
       "      <th>fecha_ingreso</th>\n",
       "      <th>fecha_sintomas</th>\n",
       "      <th>fecha_def</th>\n",
       "      <th>intubado</th>\n",
       "      <th>neumonia</th>\n",
       "      <th>...</th>\n",
       "      <th>epoc</th>\n",
       "      <th>asma</th>\n",
       "      <th>inmusupr</th>\n",
       "      <th>hipertension</th>\n",
       "      <th>otra_com</th>\n",
       "      <th>cardiovascular</th>\n",
       "      <th>obesidad</th>\n",
       "      <th>renal_cronica</th>\n",
       "      <th>tabaquismo</th>\n",
       "      <th>uci</th>\n",
       "    </tr>\n",
       "  </thead>\n",
       "  <tbody>\n",
       "    <tr>\n",
       "      <th>0</th>\n",
       "      <td>Out of USMER</td>\n",
       "      <td>SSA</td>\n",
       "      <td>CIUDAD DE MÉXICO</td>\n",
       "      <td>Man</td>\n",
       "      <td>Ambulatory</td>\n",
       "      <td>2020-10-16</td>\n",
       "      <td>2020-10-16</td>\n",
       "      <td>9999-99-99</td>\n",
       "      <td>Does not apply</td>\n",
       "      <td>No</td>\n",
       "      <td>...</td>\n",
       "      <td>No</td>\n",
       "      <td>No</td>\n",
       "      <td>No</td>\n",
       "      <td>No</td>\n",
       "      <td>No</td>\n",
       "      <td>No</td>\n",
       "      <td>No</td>\n",
       "      <td>No</td>\n",
       "      <td>No</td>\n",
       "      <td>Does not apply</td>\n",
       "    </tr>\n",
       "  </tbody>\n",
       "</table>\n",
       "<p>1 rows × 23 columns</p>\n",
       "</div>"
      ],
      "text/plain": [
       "         origen sector        entidad_um sexo tipo_paciente fecha_ingreso  \\\n",
       "0  Out of USMER    SSA  CIUDAD DE MÉXICO  Man    Ambulatory    2020-10-16   \n",
       "\n",
       "  fecha_sintomas   fecha_def        intubado neumonia  ...  epoc asma  \\\n",
       "0     2020-10-16  9999-99-99  Does not apply       No  ...    No   No   \n",
       "\n",
       "  inmusupr hipertension otra_com cardiovascular obesidad renal_cronica  \\\n",
       "0       No           No       No             No       No            No   \n",
       "\n",
       "  tabaquismo             uci  \n",
       "0         No  Does not apply  \n",
       "\n",
       "[1 rows x 23 columns]"
      ]
     },
     "metadata": {},
     "execution_count": 26
    }
   ],
   "metadata": {}
  },
  {
   "cell_type": "code",
   "execution_count": 27,
   "source": [
    "en_columns = dict(\n",
    "    origen=\"origin\",\n",
    "    sector=\"sector\",\n",
    "    sexo=\"sex\",\n",
    "    tipo_paciente=\"patient_type\",\n",
    "    fecha_ingreso=\"date_admission\",\n",
    "    fecha_sintomas=\"date_symptoms\",\n",
    "    fecha_def=\"date_death\",\n",
    "    diabetes=\"diabetes\",\n",
    "    embarazo=\"pregnancy\",\n",
    "    intubado=\"intubated\",\n",
    "    epoc=\"epoc\",\n",
    "    asma=\"asthma\",\n",
    "    inmusupr=\"immunosuppressed\",\n",
    "    hipertension=\"hypertension\",\n",
    "    otra_com=\"other_comorbidity\",\n",
    "    cardiovascular=\"cardiovascular\",\n",
    "    obesidad=\"obesity\",\n",
    "    renal_cronica=\"chronic_kidney\",\n",
    "    tabaquismo=\"smoking\",\n",
    "    neumonia=\"pneumonia\",\n",
    "    uci=\"icu\",\n",
    "    edad=\"age\",\n",
    "    entidad_um=\"state\",\n",
    ")\n",
    "\n",
    "covid_mex_dt.rename(columns=en_columns, inplace=True)\n",
    "covid_mex_dt.head(1)"
   ],
   "outputs": [
    {
     "output_type": "execute_result",
     "data": {
      "text/html": [
       "<div>\n",
       "<style scoped>\n",
       "    .dataframe tbody tr th:only-of-type {\n",
       "        vertical-align: middle;\n",
       "    }\n",
       "\n",
       "    .dataframe tbody tr th {\n",
       "        vertical-align: top;\n",
       "    }\n",
       "\n",
       "    .dataframe thead th {\n",
       "        text-align: right;\n",
       "    }\n",
       "</style>\n",
       "<table border=\"1\" class=\"dataframe\">\n",
       "  <thead>\n",
       "    <tr style=\"text-align: right;\">\n",
       "      <th></th>\n",
       "      <th>origin</th>\n",
       "      <th>sector</th>\n",
       "      <th>state</th>\n",
       "      <th>sex</th>\n",
       "      <th>patient_type</th>\n",
       "      <th>date_admission</th>\n",
       "      <th>date_symptoms</th>\n",
       "      <th>date_death</th>\n",
       "      <th>intubated</th>\n",
       "      <th>pneumonia</th>\n",
       "      <th>...</th>\n",
       "      <th>epoc</th>\n",
       "      <th>asthma</th>\n",
       "      <th>immunosuppressed</th>\n",
       "      <th>hypertension</th>\n",
       "      <th>other_comorbidity</th>\n",
       "      <th>cardiovascular</th>\n",
       "      <th>obesity</th>\n",
       "      <th>chronic_kidney</th>\n",
       "      <th>smoking</th>\n",
       "      <th>icu</th>\n",
       "    </tr>\n",
       "  </thead>\n",
       "  <tbody>\n",
       "    <tr>\n",
       "      <th>0</th>\n",
       "      <td>Out of USMER</td>\n",
       "      <td>SSA</td>\n",
       "      <td>CIUDAD DE MÉXICO</td>\n",
       "      <td>Man</td>\n",
       "      <td>Ambulatory</td>\n",
       "      <td>2020-10-16</td>\n",
       "      <td>2020-10-16</td>\n",
       "      <td>9999-99-99</td>\n",
       "      <td>Does not apply</td>\n",
       "      <td>No</td>\n",
       "      <td>...</td>\n",
       "      <td>No</td>\n",
       "      <td>No</td>\n",
       "      <td>No</td>\n",
       "      <td>No</td>\n",
       "      <td>No</td>\n",
       "      <td>No</td>\n",
       "      <td>No</td>\n",
       "      <td>No</td>\n",
       "      <td>No</td>\n",
       "      <td>Does not apply</td>\n",
       "    </tr>\n",
       "  </tbody>\n",
       "</table>\n",
       "<p>1 rows × 23 columns</p>\n",
       "</div>"
      ],
      "text/plain": [
       "         origin sector             state  sex patient_type date_admission  \\\n",
       "0  Out of USMER    SSA  CIUDAD DE MÉXICO  Man   Ambulatory     2020-10-16   \n",
       "\n",
       "  date_symptoms  date_death       intubated pneumonia  ...  epoc asthma  \\\n",
       "0    2020-10-16  9999-99-99  Does not apply        No  ...    No     No   \n",
       "\n",
       "  immunosuppressed hypertension other_comorbidity cardiovascular obesity  \\\n",
       "0               No           No                No             No      No   \n",
       "\n",
       "  chronic_kidney smoking             icu  \n",
       "0             No      No  Does not apply  \n",
       "\n",
       "[1 rows x 23 columns]"
      ]
     },
     "metadata": {},
     "execution_count": 27
    }
   ],
   "metadata": {}
  },
  {
   "cell_type": "markdown",
   "source": [
    "### Save data"
   ],
   "metadata": {}
  },
  {
   "cell_type": "code",
   "execution_count": 28,
   "source": [
    "(\n",
    "    covid_mex_dt\n",
    "    .to_csv(\n",
    "        path_or_buf=output_dir.joinpath(\"positive_covid_mex.csv\"),\n",
    "        index=False\n",
    "    )\n",
    ")"
   ],
   "outputs": [],
   "metadata": {}
  },
  {
   "cell_type": "markdown",
   "source": [
    "### SQL approach"
   ],
   "metadata": {}
  },
  {
   "cell_type": "markdown",
   "source": [
    "```python\n",
    "from sqlalchemy import create_engine\n",
    "engine = create_engine(f\"sqlite:///{output_dir.joinpath(\"covid_mex.db\")}\")\n",
    "\n",
    "with engine.connect() as conn:\n",
    "\n",
    "    for sheet, df in catalogs_dfs_2.items():\n",
    "\n",
    "        (\n",
    "            df\n",
    "            .to_sql(\n",
    "                name=sheet,\n",
    "                con=conn, \n",
    "                if_exists=\"replace\",\n",
    "                index=False\n",
    "            )\n",
    "        )\n",
    "\n",
    "    (\n",
    "        covid_mex_df\n",
    "        .to_sql(\n",
    "            name=\"records\",\n",
    "            con=conn,\n",
    "            if_exists=\"replace\",\n",
    "            index=False\n",
    "        )\n",
    "    )\n",
    "```"
   ],
   "metadata": {}
  }
 ],
 "metadata": {
  "orig_nbformat": 4,
  "language_info": {
   "name": "python",
   "version": "3.9.7",
   "mimetype": "text/x-python",
   "codemirror_mode": {
    "name": "ipython",
    "version": 3
   },
   "pygments_lexer": "ipython3",
   "nbconvert_exporter": "python",
   "file_extension": ".py"
  },
  "kernelspec": {
   "name": "python3",
   "display_name": "Python 3.9.7 64-bit ('covid_analysis': conda)"
  },
  "interpreter": {
   "hash": "3d1b4f8a728387d233bda06628d38195f577df9e95cd449622105f7d7da3480b"
  }
 },
 "nbformat": 4,
 "nbformat_minor": 2
}