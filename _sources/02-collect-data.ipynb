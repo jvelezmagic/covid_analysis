{
 "cells": [
  {
   "cell_type": "markdown",
   "source": [
    "# Collect data"
   ],
   "metadata": {}
  },
  {
   "cell_type": "markdown",
   "source": [
    "## Data sources\n",
    "\n",
    "- [Johns Hopkins University - Time Series](https://github.com/CSSEGISandData/COVID-19)\n",
    "- [Johns Hopkins University - Vaccination](https://github.com/govex/COVID-19/)\n",
    "- [Government of Mexico - COVID-19](https://datos.gob.mx/busca/dataset/informacion-referente-a-casos-covid-19-en-mexico)"
   ],
   "metadata": {}
  },
  {
   "cell_type": "markdown",
   "source": [
    "## Load libraries"
   ],
   "metadata": {}
  },
  {
   "cell_type": "code",
   "execution_count": 2,
   "source": [
    "import requests\n",
    "import covid_analysis.utils.paths as path"
   ],
   "outputs": [],
   "metadata": {}
  },
  {
   "cell_type": "markdown",
   "source": [
    "## Utility functions"
   ],
   "metadata": {}
  },
  {
   "cell_type": "code",
   "execution_count": 3,
   "source": [
    "def download_csv(url: str, out_file: path.Path) -> None:\n",
    "    request = requests.get(url)\n",
    "    content = request.content\n",
    "\n",
    "    with open(out_file, \"wb\") as file_content:\n",
    "        file_content.write(content)\n"
   ],
   "outputs": [],
   "metadata": {}
  },
  {
   "cell_type": "markdown",
   "source": [
    "## Define default output directory"
   ],
   "metadata": {}
  },
  {
   "cell_type": "code",
   "execution_count": 4,
   "source": [
    "output_dir = path.data_raw_dir()\n",
    "output_dir.mkdir(parents=True, exist_ok=True)"
   ],
   "outputs": [],
   "metadata": {}
  },
  {
   "cell_type": "markdown",
   "source": [
    "## Download Johns Hopkins University time series"
   ],
   "metadata": {}
  },
  {
   "cell_type": "code",
   "execution_count": 5,
   "source": [
    "hopkins_base_url = \"https://raw.githubusercontent.com/CSSEGISandData/COVID-19/master/csse_covid_19_data/csse_covid_19_time_series/\"\n",
    "\n",
    "hopkins_filenames = (\n",
    "    \"time_series_covid19_confirmed_global.csv\",\n",
    "    \"time_series_covid19_deaths_global.csv\"\n",
    ")\n",
    "\n",
    "hopkins_time_series_urls = {\n",
    "    path.data_raw_dir(file_name): f\"{hopkins_base_url}{file_name}\"\n",
    "    for file_name in hopkins_filenames\n",
    "}"
   ],
   "outputs": [],
   "metadata": {}
  },
  {
   "cell_type": "code",
   "execution_count": 6,
   "source": [
    "[\n",
    "    download_csv(url, out_path) for out_path, url in hopkins_time_series_urls.items()\n",
    "];"
   ],
   "outputs": [],
   "metadata": {}
  },
  {
   "cell_type": "markdown",
   "source": [
    "## Download Johns Hopkins University countries metadata"
   ],
   "metadata": {}
  },
  {
   "cell_type": "code",
   "execution_count": 7,
   "source": [
    "countries_meta_url = \"https://raw.githubusercontent.com/CSSEGISandData/COVID-19/master/csse_covid_19_data/UID_ISO_FIPS_LookUp_Table.csv\"\n",
    "countries_meta_filename = output_dir.joinpath(\"UID_ISO_FIPS_LookUp_Table.csv\")"
   ],
   "outputs": [],
   "metadata": {}
  },
  {
   "cell_type": "code",
   "execution_count": 8,
   "source": [
    "download_csv(countries_meta_url, countries_meta_filename);"
   ],
   "outputs": [],
   "metadata": {}
  },
  {
   "cell_type": "markdown",
   "source": [
    "## Download Johns Hopkins University vaccination time series"
   ],
   "metadata": {}
  },
  {
   "cell_type": "code",
   "execution_count": 9,
   "source": [
    "vaccination_url = \"https://raw.githubusercontent.com/govex/COVID-19/master/data_tables/vaccine_data/global_data/time_series_covid19_vaccine_global.csv\"\n",
    "vaccination_filename = output_dir.joinpath(\"time_series_covid19_vaccine_global.csv\")"
   ],
   "outputs": [],
   "metadata": {}
  },
  {
   "cell_type": "code",
   "execution_count": 10,
   "source": [
    "download_csv(vaccination_url, vaccination_filename);"
   ],
   "outputs": [],
   "metadata": {}
  },
  {
   "cell_type": "markdown",
   "source": [
    "## Download Government of Mexico data"
   ],
   "metadata": {}
  },
  {
   "cell_type": "markdown",
   "source": [
    "### Data dictionaries"
   ],
   "metadata": {}
  },
  {
   "cell_type": "code",
   "execution_count": 23,
   "source": [
    "data_dict_mex_url = \"http://datosabiertos.salud.gob.mx/gobmx/salud/datos_abiertos/diccionario_datos_covid19.zip\"\n",
    "data_dict_mex_filename = str(output_dir.joinpath(\"diccionario_datos_covid19.zip\"))"
   ],
   "outputs": [],
   "metadata": {}
  },
  {
   "cell_type": "code",
   "execution_count": 27,
   "source": [
    "!wget -q {data_dict_mex_url} -O {data_dict_mex_filename}"
   ],
   "outputs": [],
   "metadata": {}
  },
  {
   "cell_type": "markdown",
   "source": [
    "### Open covid-19 data"
   ],
   "metadata": {}
  },
  {
   "cell_type": "code",
   "execution_count": 35,
   "source": [
    "data_mex_url = \"http://datosabiertos.salud.gob.mx/gobmx/salud/datos_abiertos/datos_abiertos_covid19.zip\"\n",
    "data_mex_filename = str(output_dir.joinpath(\"datos_abiertos_covid19.zip\"))"
   ],
   "outputs": [
    {
     "output_type": "stream",
     "name": "stdout",
     "text": [
      "/Users/jvelezmagic/Documents/Github/personal_projects/covid_analysis/data/raw/datos_abiertos_covid19.zip\n"
     ]
    }
   ],
   "metadata": {}
  },
  {
   "cell_type": "markdown",
   "source": [
    "```bash\n",
    "wget -q {data_mex_url} -O {output_dir}\n",
    "```"
   ],
   "metadata": {}
  },
  {
   "cell_type": "code",
   "execution_count": 43,
   "source": [
    "!axel -q -n 8 {data_mex_url} -o {output_dir}"
   ],
   "outputs": [
    {
     "output_type": "stream",
     "name": "stdout",
     "text": [
      "No state file, cannot resume!\n"
     ]
    }
   ],
   "metadata": {}
  }
 ],
 "metadata": {
  "orig_nbformat": 4,
  "language_info": {
   "name": "python",
   "version": "3.9.7",
   "mimetype": "text/x-python",
   "codemirror_mode": {
    "name": "ipython",
    "version": 3
   },
   "pygments_lexer": "ipython3",
   "nbconvert_exporter": "python",
   "file_extension": ".py"
  },
  "kernelspec": {
   "name": "python3",
   "display_name": "Python 3.9.7 64-bit ('covid_analysis': conda)"
  },
  "interpreter": {
   "hash": "3d1b4f8a728387d233bda06628d38195f577df9e95cd449622105f7d7da3480b"
  }
 },
 "nbformat": 4,
 "nbformat_minor": 2
}