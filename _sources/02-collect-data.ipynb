{
 "cells": [
  {
   "cell_type": "markdown",
   "source": [
    "# Collect data"
   ],
   "metadata": {}
  },
  {
   "cell_type": "markdown",
   "source": [
    "## Data sources\n",
    "\n",
    "- [Johns Hopkins University (JHU) - Time Series](https://github.com/CSSEGISandData/COVID-19)\n",
    "- [Johns Hopkins University (JHU) - Vaccination](https://github.com/govex/COVID-19/)\n",
    "- [Our World in Data (OWiD)](https://ourworldindata.org/covid-vaccinations)\n",
    "- [World Health Organization (WHO)](https://covid19.who.int/who-data/vaccination-data.csv)\n",
    "- [Government of Mexico - COVID-19](https://datos.gob.mx/busca/dataset/informacion-referente-a-casos-covid-19-en-mexico)"
   ],
   "metadata": {}
  },
  {
   "cell_type": "markdown",
   "source": [
    "## Load libraries"
   ],
   "metadata": {}
  },
  {
   "cell_type": "code",
   "execution_count": null,
   "source": [
    "import requests\n",
    "import covid_analysis.utils.paths as path"
   ],
   "outputs": [],
   "metadata": {}
  },
  {
   "cell_type": "markdown",
   "source": [
    "## Utility functions"
   ],
   "metadata": {}
  },
  {
   "cell_type": "code",
   "execution_count": null,
   "source": [
    "def download_csv(url: str, out_file: path.Path) -> None:\n",
    "    request = requests.get(url)\n",
    "    content = request.content\n",
    "\n",
    "    with open(out_file, \"wb\") as file_content:\n",
    "        file_content.write(content)\n"
   ],
   "outputs": [],
   "metadata": {}
  },
  {
   "cell_type": "markdown",
   "source": [
    "## Define default output directory"
   ],
   "metadata": {}
  },
  {
   "cell_type": "code",
   "execution_count": null,
   "source": [
    "output_dir = path.data_raw_dir()\n",
    "output_dir.mkdir(parents=True, exist_ok=True)"
   ],
   "outputs": [],
   "metadata": {}
  },
  {
   "cell_type": "markdown",
   "source": [
    "## Download Johns Hopkins University time series\n",
    "\n",
    "The time series provided by Johns Hopkins University includes the confirmed cases and deaths accumulated since January 22, 2020, by country or province of the country. The recovered table was depreciated due to [Issue #3464](https://github.com/CSSEGISandData/COVID-19/issues/3464) and [Issue #4465](https://github.com/CSSEGISandData/COVID-19/issues/4465) and is subject to return uncertainty."
   ],
   "metadata": {}
  },
  {
   "cell_type": "code",
   "execution_count": null,
   "source": [
    "hopkins_base_url = \"https://raw.githubusercontent.com/CSSEGISandData/COVID-19/master/csse_covid_19_data/csse_covid_19_time_series/\"\n",
    "\n",
    "hopkins_filenames = (\n",
    "    \"time_series_covid19_confirmed_global.csv\",\n",
    "    \"time_series_covid19_deaths_global.csv\"\n",
    ")\n",
    "\n",
    "hopkins_time_series_urls = {\n",
    "    path.data_raw_dir(file_name): f\"{hopkins_base_url}{file_name}\"\n",
    "    for file_name in hopkins_filenames\n",
    "}"
   ],
   "outputs": [],
   "metadata": {}
  },
  {
   "cell_type": "code",
   "execution_count": null,
   "source": [
    "[\n",
    "    download_csv(url, out_path) for out_path, url in hopkins_time_series_urls.items()\n",
    "];"
   ],
   "outputs": [],
   "metadata": {}
  },
  {
   "cell_type": "markdown",
   "source": [
    "## Download Johns Hopkins University countries metadata\n",
    "\n",
    "This table contains the identifiers of each country and province together with an estimate of its population.\n",
    "\n",
    "Here it is important to note that, in its description, you can found the following information:\n",
    "\n",
    ":::{warning}\n",
    "The names of locations included on the Website correspond with the official designations used by the U.S. Department of State. The presentation of material therein does not imply the expression of any opinion whatsoever on the part of JHU concerning the legal status of any country, area or territory or of its authorities. The depiction and use of boundaries, geographic names and related data shown on maps and included in lists, tables, documents, and databases on this website are not warranted to be error free nor do they necessarily imply official endorsement or acceptance by JHU.\n",
    ":::\n",
    "\n",
    "Therefore, you will be able to find observations that have a description or country name such as `Taiwan*` instead of just `Taiwan`. However, for quantitative fines, you can ignore that fact and quantify the results by identifier."
   ],
   "metadata": {}
  },
  {
   "cell_type": "code",
   "execution_count": null,
   "source": [
    "countries_meta_url = \"https://raw.githubusercontent.com/CSSEGISandData/COVID-19/master/csse_covid_19_data/UID_ISO_FIPS_LookUp_Table.csv\"\n",
    "countries_meta_filename = output_dir.joinpath(\"UID_ISO_FIPS_LookUp_Table.csv\")"
   ],
   "outputs": [],
   "metadata": {}
  },
  {
   "cell_type": "code",
   "execution_count": null,
   "source": [
    "download_csv(countries_meta_url, countries_meta_filename);"
   ],
   "outputs": [],
   "metadata": {}
  },
  {
   "cell_type": "markdown",
   "source": [
    "## Download Johns Hopkins University vaccination time series\n",
    "\n",
    "The global time series provided by Johns Hopkins University contains the number of vaccination doses given and whether the person received their first dose or was fully vaccinated."
   ],
   "metadata": {}
  },
  {
   "cell_type": "code",
   "execution_count": null,
   "source": [
    "vaccination_url = \"https://raw.githubusercontent.com/govex/COVID-19/master/data_tables/vaccine_data/global_data/time_series_covid19_vaccine_global.csv\"\n",
    "vaccination_filename = output_dir.joinpath(\"time_series_covid19_vaccine_global.csv\")"
   ],
   "outputs": [],
   "metadata": {}
  },
  {
   "cell_type": "code",
   "execution_count": null,
   "source": [
    "download_csv(vaccination_url, vaccination_filename);"
   ],
   "outputs": [],
   "metadata": {}
  },
  {
   "cell_type": "markdown",
   "source": [
    "## Download Government of Mexico data\n",
    "\n",
    "The Government of Mexico provides information on the Epidemiological Surveillance System for Viral Respiratory Diseases.\n",
    "\n",
    ":::{note}\n",
    "Preliminary data subject to validation by the Ministry of Health through the General Directorate of Epidemiology. The information contained corresponds only to the data obtained from the epidemiological study of a suspected case of viral respiratory disease when it is identified in the medical units of the Health Sector.\n",
    ":::"
   ],
   "metadata": {}
  },
  {
   "cell_type": "markdown",
   "source": [
    "### Data dictionaries\n",
    "\n",
    "The data dictionaries contain an excel (`.xlsx`) file where each sheet corresponds to the annotation of a table with its key and description."
   ],
   "metadata": {}
  },
  {
   "cell_type": "code",
   "execution_count": null,
   "source": [
    "data_dict_mex_url = \"http://datosabiertos.salud.gob.mx/gobmx/salud/datos_abiertos/diccionario_datos_covid19.zip\"\n",
    "data_dict_mex_filename = str(output_dir.joinpath(\"diccionario_datos_covid19.zip\"))"
   ],
   "outputs": [],
   "metadata": {}
  },
  {
   "cell_type": "code",
   "execution_count": null,
   "source": [
    "!wget -q {data_dict_mex_url} -O {data_dict_mex_filename}"
   ],
   "outputs": [],
   "metadata": {}
  },
  {
   "cell_type": "markdown",
   "source": [
    "### Open covid-19 data\n",
    "\n",
    "The open data of covid19 from the government of Mexico is in a pervasive and zero standardized `.csv` file at the database level because it is a look-up table. Therefore, different variables can be calculated from others in the same data set."
   ],
   "metadata": {}
  },
  {
   "cell_type": "code",
   "execution_count": null,
   "source": [
    "data_mex_url = \"http://datosabiertos.salud.gob.mx/gobmx/salud/datos_abiertos/datos_abiertos_covid19.zip\"\n",
    "data_mex_filename = str(output_dir.joinpath(\"datos_abiertos_covid19.zip\"))"
   ],
   "outputs": [],
   "metadata": {}
  },
  {
   "cell_type": "markdown",
   "source": [
    "Although you could download the database (approximately 2GB) using the following command:\n",
    "\n",
    "```bash\n",
    "!wget -q {data_mex_url} -O {output_dir}\n",
    "```"
   ],
   "metadata": {}
  },
  {
   "cell_type": "markdown",
   "source": [
    "Here we opted to use `axel` to speed up the process a bit."
   ],
   "metadata": {}
  },
  {
   "cell_type": "code",
   "execution_count": null,
   "source": [
    "!axel -q -n 8 {data_mex_url} -o {output_dir}"
   ],
   "outputs": [],
   "metadata": {}
  }
 ],
 "metadata": {
  "orig_nbformat": 4,
  "language_info": {
   "name": "python",
   "version": "3.9.7",
   "mimetype": "text/x-python",
   "codemirror_mode": {
    "name": "ipython",
    "version": 3
   },
   "pygments_lexer": "ipython3",
   "nbconvert_exporter": "python",
   "file_extension": ".py"
  },
  "kernelspec": {
   "name": "python3",
   "display_name": "Python 3.9.7 64-bit ('covid_analysis': conda)"
  },
  "interpreter": {
   "hash": "3d1b4f8a728387d233bda06628d38195f577df9e95cd449622105f7d7da3480b"
  }
 },
 "nbformat": 4,
 "nbformat_minor": 2
}