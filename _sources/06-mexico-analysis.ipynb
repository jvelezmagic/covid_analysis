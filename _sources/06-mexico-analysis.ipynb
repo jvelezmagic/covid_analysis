{
 "cells": [
  {
   "cell_type": "markdown",
   "source": [
    "# Mexico analysis"
   ],
   "metadata": {}
  },
  {
   "cell_type": "markdown",
   "source": [
    "## Load libraries"
   ],
   "metadata": {}
  },
  {
   "cell_type": "code",
   "execution_count": null,
   "source": [
    "import warnings\n",
    "from functools import partial\n",
    "\n",
    "import covid_analysis.utils.paths as path\n",
    "import janitor\n",
    "import joblib\n",
    "import matplotlib.pyplot as plt\n",
    "import numpy as np\n",
    "import pandas as pd\n",
    "import pandas_flavor as pf\n",
    "import plotly.express as px\n",
    "import plotly.graph_objects as go\n",
    "import plotly.io as pio\n",
    "import prince\n",
    "import seaborn as sns\n",
    "from plotly.offline import init_notebook_mode\n"
   ],
   "outputs": [],
   "metadata": {}
  },
  {
   "cell_type": "markdown",
   "source": [
    "## Set defaults for plots"
   ],
   "metadata": {}
  },
  {
   "cell_type": "code",
   "execution_count": null,
   "source": [
    "# matplotlib\n",
    "plt.style.use(\"seaborn-whitegrid\")\n",
    "plt.rcParams[\"figure.figsize\"] = (10, 8)\n",
    "\n",
    "# seaborn\n",
    "sns.set_style(\"whitegrid\")\n",
    "\n",
    "# plotly\n",
    "init_notebook_mode()\n",
    "pio.templates.default = \"plotly_white\"\n",
    "pd.options.plotting.backend = \"plotly\"\n",
    "\n",
    "# Some plot warninigs\n",
    "warnings.filterwarnings(\"ignore\")"
   ],
   "outputs": [],
   "metadata": {}
  },
  {
   "cell_type": "markdown",
   "source": [
    "## Load data"
   ],
   "metadata": {}
  },
  {
   "cell_type": "code",
   "execution_count": null,
   "source": [
    "covid_mex_file = path.data_processed_dir(\"positive_covid_mex.csv\")"
   ],
   "outputs": [],
   "metadata": {}
  },
  {
   "cell_type": "code",
   "execution_count": null,
   "source": [
    "covid_mex_df = pd.read_csv(\n",
    "    filepath_or_buffer=covid_mex_file,\n",
    "    parse_dates=[\"date_admission\", \"date_symptoms\", \"date_death\"],\n",
    "    date_parser=lambda x: pd.to_datetime(x, errors=\"coerce\")\n",
    ")\n",
    "\n",
    "covid_mex_df.head(1)"
   ],
   "outputs": [],
   "metadata": {}
  },
  {
   "cell_type": "markdown",
   "source": [
    "## Calculate new data"
   ],
   "metadata": {}
  },
  {
   "cell_type": "markdown",
   "source": [
    "### Death column indicator"
   ],
   "metadata": {}
  },
  {
   "cell_type": "code",
   "execution_count": null,
   "source": [
    "covid_mex_df[\"survived\"] = covid_mex_df.date_death.isna()\n",
    "covid_mex_df[\"survived\"] = np.where(covid_mex_df.survived, \"Survived\", \"Death\")"
   ],
   "outputs": [],
   "metadata": {}
  },
  {
   "cell_type": "markdown",
   "source": [
    "### Binned ages"
   ],
   "metadata": {}
  },
  {
   "cell_type": "code",
   "execution_count": null,
   "source": [
    "bins = [x*4 for x in range(0,32)]\n",
    "labels = [\"{}-{}\".format(start, end) for start, end in zip(bins[:-1], bins[1:])]\n",
    "covid_mex_df[\"age_range\"] = pd.cut(covid_mex_df.age, bins=bins, include_lowest=True, labels=labels)"
   ],
   "outputs": [],
   "metadata": {}
  },
  {
   "cell_type": "code",
   "execution_count": null,
   "source": [
    "covid_mex_df = covid_mex_df.sort_values(\"survived\", ascending=False)"
   ],
   "outputs": [],
   "metadata": {}
  },
  {
   "cell_type": "markdown",
   "source": [
    "## Covid involvement by age and sex"
   ],
   "metadata": {}
  },
  {
   "cell_type": "code",
   "execution_count": null,
   "source": [
    "(\n",
    "    covid_mex_df\n",
    "    .groupby([\"survived\", \"sex\"])\n",
    "    .size()\n",
    "    .reset_index(name=\"n\")\n",
    "    .pipe(\n",
    "        lambda df: (\n",
    "            px.sunburst(\n",
    "                data_frame=df,\n",
    "                path=[\"survived\", \"sex\"],\n",
    "                values=\"n\",\n",
    "                labels=dict(\n",
    "                    sex=\"Sex\",\n",
    "                    n=\"Count\",\n",
    "                ),\n",
    "                hover_name=\"survived\",\n",
    "                hover_data=dict(\n",
    "                    survived=False,\n",
    "                )\n",
    "            )\n",
    "        )\n",
    "    )\n",
    ")"
   ],
   "outputs": [],
   "metadata": {}
  },
  {
   "cell_type": "code",
   "execution_count": null,
   "source": [
    "(\n",
    "    covid_mex_df\n",
    "    .groupby([\"sex\", \"age_range\", \"survived\"])\n",
    "    .size()\n",
    "    .reset_index(name=\"count\")\n",
    "    .pipe(\n",
    "        lambda df: (\n",
    "            px.bar(\n",
    "                data_frame=df,\n",
    "                x=\"age_range\",\n",
    "                y=\"count\",\n",
    "                color=\"survived\",\n",
    "                facet_row=\"sex\",\n",
    "                labels=dict(\n",
    "                    age_range=\"Age\",\n",
    "                    count=\"Confirmed cases\",\n",
    "                    survived=\"Status\"\n",
    "                ),\n",
    "                category_orders=dict(\n",
    "                    survived=[\"Survived\", \"Death\"]\n",
    "                ),\n",
    "                log_y=True\n",
    "            )\n",
    "            .for_each_annotation(\n",
    "                lambda a: a.update(text=a.text.split(\"=\")[1])\n",
    "            )\n",
    "            .update_xaxes(tickangle=315)\n",
    "            .update_traces(hovertemplate='Count: %{y} <br> Age: %{x}')\n",
    "            .update_layout(\n",
    "                legend=dict(\n",
    "                    orientation=\"h\",\n",
    "                    yanchor=\"bottom\",\n",
    "                    y=1.02,\n",
    "                    xanchor=\"right\",\n",
    "                    x=1\n",
    "                ),\n",
    "                title_x=0.5\n",
    "            )\n",
    "        )\n",
    "    )\n",
    ")"
   ],
   "outputs": [],
   "metadata": {}
  },
  {
   "cell_type": "markdown",
   "source": [
    "## Time from infection to death"
   ],
   "metadata": {}
  },
  {
   "cell_type": "code",
   "execution_count": null,
   "source": [
    "(\n",
    "    covid_mex_df\n",
    "    .filter_on(\"survived == 'Death'\")\n",
    "    .assign(\n",
    "        life_time=lambda df: (df.date_death - df.date_symptoms).dt.days\n",
    "    )\n",
    "    .filter_on(\"life_time > 0 and life_time < 100\")\n",
    "    .pipe(\n",
    "        lambda df: (\n",
    "            px.histogram(\n",
    "                data_frame=df,\n",
    "                x=\"life_time\",\n",
    "                color=\"sex\",\n",
    "                marginal=\"box\",\n",
    "                labels=dict(\n",
    "                    life_time=\"Number of days\",\n",
    "                    count=\"Count\",\n",
    "                    sex=\"Sex\"\n",
    "                )\n",
    "            )\n",
    "            .update_traces(hovertemplate='Count: %{y} <br> Time before dying: %{x}')\n",
    "            .update_layout(\n",
    "                legend=dict(\n",
    "                    orientation=\"h\",\n",
    "                    yanchor=\"bottom\",\n",
    "                    y=1.02,\n",
    "                    xanchor=\"right\",\n",
    "                    x=1\n",
    "                )\n",
    "            )\n",
    "        )\n",
    "    )\n",
    ")"
   ],
   "outputs": [],
   "metadata": {}
  },
  {
   "cell_type": "code",
   "execution_count": null,
   "source": [
    "(\n",
    "    covid_mex_df\n",
    "    .filter_on(\"survived == 'Death'\")\n",
    "    .assign(\n",
    "        life_time=lambda df: (df.date_death - df.date_symptoms).dt.days\n",
    "    )\n",
    "    .filter_on(\"life_time > 0\")\n",
    "    .filter_on(\"icu in ['Yes', 'No']\")\n",
    "    .select_columns([\"age_range\", \"icu\", \"life_time\"])\n",
    "    .groupby([\"age_range\", \"icu\"])\n",
    "    .life_time\n",
    "    .describe()\n",
    "    [[\"count\", \"mean\"]]\n",
    "    .reset_index()\n",
    "    .pipe(\n",
    "        lambda df: (\n",
    "            px.bar(\n",
    "                data_frame=df,\n",
    "                x=\"age_range\",\n",
    "                y=\"count\",\n",
    "                color=\"mean\",\n",
    "                facet_row=\"icu\",\n",
    "                labels=dict(\n",
    "                    age_range=\"Age range\",\n",
    "                    count=\"Count\",\n",
    "                    mean=\"Mean lifetime\",\n",
    "                    icu=\"ICU\"\n",
    "                ),\n",
    "                barmode=\"group\"\n",
    "            )\n",
    "            .update_yaxes(matches=None, showticklabels=True)\n",
    "            .update_xaxes(tickangle=315)\n",
    "            .update_layout(\n",
    "                legend=dict(\n",
    "                    orientation=\"h\",\n",
    "                    yanchor=\"bottom\",\n",
    "                    y=1.02,\n",
    "                    xanchor=\"right\",\n",
    "                    x=1\n",
    "                )\n",
    "            )\n",
    "        )\n",
    "    )\n",
    ")"
   ],
   "outputs": [],
   "metadata": {}
  },
  {
   "cell_type": "markdown",
   "source": [
    "## Number of deaths per state and where they happened"
   ],
   "metadata": {}
  },
  {
   "cell_type": "code",
   "execution_count": null,
   "source": [
    "(\n",
    "    covid_mex_df\n",
    "    .groupby([\"state\", \"origin\", \"sector\", \"patient_type\"])\n",
    "    .size()\n",
    "    .reset_index(name=\"n\")\n",
    "    .pipe(\n",
    "        lambda df: (\n",
    "            px.treemap(\n",
    "                data_frame=df,\n",
    "                path=[px.Constant(\"All\"), \"state\", \"origin\", \"sector\", \"patient_type\"],\n",
    "                values=\"n\",\n",
    "                labels=dict(\n",
    "                    n=\"Number of deaths\"\n",
    "                )\n",
    "            )\n",
    "        )\n",
    "    \n",
    "    )\n",
    "\n",
    ")"
   ],
   "outputs": [],
   "metadata": {}
  },
  {
   "cell_type": "markdown",
   "source": [
    "## Patien conditions for survival"
   ],
   "metadata": {}
  },
  {
   "cell_type": "code",
   "execution_count": null,
   "source": [
    "yes_or_no = [\n",
    "    'sex', 'intubated', 'pneumonia',\n",
    "    'pregnancy', 'diabetes', 'epoc', 'asthma', 'immunosuppressed',\n",
    "    'hypertension', 'other_comorbidity', 'cardiovascular', 'obesity',\n",
    "    'chronic_kidney', 'smoking', 'icu', 'survived'\n",
    "]"
   ],
   "outputs": [],
   "metadata": {}
  },
  {
   "cell_type": "code",
   "execution_count": null,
   "source": [
    "def iplot_coordinates(\n",
    "    mca,\n",
    "    X,\n",
    "    x_component=1,\n",
    "    y_component=2,\n",
    "    show_row_points=False,\n",
    "    show_column_points=True,\n",
    "    highlight = None,\n",
    "    text_size=10\n",
    "):\n",
    "    \n",
    "    x, y = x_component - 1, y_component - 1\n",
    "    color, text = None, None\n",
    "    \n",
    "    if show_row_points:\n",
    "        df = (\n",
    "            mca.\n",
    "            row_coordinates(X)[[x_component, y_component]])\n",
    "        \n",
    "        if highlight:\n",
    "            df[highlight] = X[highlight]\n",
    "            color = highlight\n",
    "    else:\n",
    "        df = (\n",
    "            mca.\n",
    "            column_coordinates(X)[[x_component, y_component]].\n",
    "            reset_index().\n",
    "            rename(columns={\"index\": \"full_text\"}).\n",
    "            assign(\n",
    "                full_text=lambda x: x.full_text.str.split(\"_\"),\n",
    "                Category =lambda x: x.full_text.apply(lambda y: y[0]),\n",
    "                Values = lambda x: x.full_text.apply(lambda y: \"_\".join(y[1:]))\n",
    "            )\n",
    "        )\n",
    "        \n",
    "        color = \"Category\"\n",
    "        text = \"Values\"\n",
    "        \n",
    "    df.rename(columns={x_component:\"x\", y_component:\"y\"}, inplace=True)\n",
    "    \n",
    "    fig = px.scatter(\n",
    "        data_frame=df,\n",
    "        x=\"x\",\n",
    "        y=\"y\",\n",
    "        color=color,\n",
    "        text=text,\n",
    "        labels = {\n",
    "            \"x\": \"Component {} ({:.2f}% intertia)\".format(x_component, mca.explained_inertia_[x_component] * 100),\n",
    "            \"y\": \"Component {} ({:.2f}% intertia)\".format(y_component, mca.explained_inertia_[y_component] * 100)\n",
    "        }\n",
    "    )\n",
    "    \n",
    "    fig.update_traces(textposition=\"top right\")\n",
    "    fig.update_layout(\n",
    "        font=dict(size=text_size),\n",
    "        shapes=[\n",
    "            dict(\n",
    "                type=\"line\",\n",
    "                yref=\"paper\", y0=0, y1=1,\n",
    "                xref=\"x\", x0=0, x1=0\n",
    "            ),\n",
    "            dict(\n",
    "                type=\"line\",\n",
    "                yref=\"y\", y0=0, y1=0,\n",
    "                xref=\"paper\", x0=0, x1=1\n",
    "            ),\n",
    "            \n",
    "        ]\n",
    "    )    \n",
    "    return fig "
   ],
   "outputs": [],
   "metadata": {}
  },
  {
   "cell_type": "code",
   "execution_count": null,
   "source": [
    "X = (\n",
    "    covid_mex_df\n",
    "    .select_columns(yes_or_no)\n",
    ")\n",
    "\n",
    "mca = prince.MCA(n_components=4, random_state=42)\n",
    "mca = mca.fit(X)\n",
    "mca"
   ],
   "outputs": [],
   "metadata": {}
  },
  {
   "cell_type": "code",
   "execution_count": null,
   "source": [
    "import functools"
   ],
   "outputs": [],
   "metadata": {}
  },
  {
   "cell_type": "code",
   "execution_count": null,
   "source": [
    "x_component, y_component = 1, 2\n",
    "plot_mca = functools.partial(iplot_coordinates, mca=mca, X=X, x_component=x_component, y_component=y_component)\n",
    "plot_mca(show_row_points=False)"
   ],
   "outputs": [],
   "metadata": {}
  },
  {
   "cell_type": "code",
   "execution_count": null,
   "source": [
    "(\n",
    "    covid_mex_df\n",
    "    .filter_on(\"survived == 'Death'\")\n",
    "    .pipe(\n",
    "        lambda df: (\n",
    "            px.parallel_categories(\n",
    "                data_frame=df,\n",
    "                dimensions=[\"icu\", \"chronic_kidney\", \"intubated\", \"pneumonia\", \"epoc\", \"cardiovascular\"],\n",
    "                labels=dict(\n",
    "                    icu=\"ICU\",\n",
    "                    chronic_kidney=\"Chronic kidney\",\n",
    "                    intubated=\"Intubated\",\n",
    "                    pneumonia=\"Pneumonia\",\n",
    "                    epoc=\"EPOC\",\n",
    "                    cardiovascular=\"Cardiovascular\"\n",
    "    \n",
    "                )\n",
    "            )\n",
    "            .update_traces(hoveron=\"color\", hoverinfo=\"count+probability\")\n",
    "        )\n",
    "    )\n",
    ")"
   ],
   "outputs": [],
   "metadata": {}
  }
 ],
 "metadata": {
  "orig_nbformat": 4,
  "language_info": {
   "name": "python",
   "version": "3.9.7",
   "mimetype": "text/x-python",
   "codemirror_mode": {
    "name": "ipython",
    "version": 3
   },
   "pygments_lexer": "ipython3",
   "nbconvert_exporter": "python",
   "file_extension": ".py"
  },
  "kernelspec": {
   "name": "python3",
   "display_name": "Python 3.9.7 64-bit ('covid_analysis': conda)"
  },
  "interpreter": {
   "hash": "3d1b4f8a728387d233bda06628d38195f577df9e95cd449622105f7d7da3480b"
  }
 },
 "nbformat": 4,
 "nbformat_minor": 2
}